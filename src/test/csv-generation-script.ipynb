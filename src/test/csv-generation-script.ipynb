{
 "cells": [
  {
   "cell_type": "code",
   "execution_count": 62,
   "metadata": {},
   "outputs": [
    {
     "data": {
      "text/plain": [
       "<Response [200]>"
      ]
     },
     "execution_count": 62,
     "metadata": {},
     "output_type": "execute_result"
    }
   ],
   "source": [
    "import requests\n",
    "baseUrl = \"http://localhost:8080/iis\"\n",
    "host = \"localhost:8080\"\n",
    "tenant = \"KP\"\n",
    "user = \"mismo\"\n",
    "password= \"mismo123\"\n",
    "fhirUrl = baseUrl + \"/fhir/\" + tenant\n",
    "session = requests.Session()\n",
    "headers={\"Content-Type\": \"application/json\"}\n",
    "\n",
    "sourceDirectory= f\"./Synthetic-Denver/{tenant}\"\n",
    "\n",
    "\n",
    "login = session.post(f\"{baseUrl}/login\", params={\"TENANTID\": tenant,\"USERID\": user, \"PASSWORD\": password})\n",
    "problemFiles = []\n",
    "session.post(f\"{baseUrl}/patientMatchingDatasetConversion/init\")"
   ]
  },
  {
   "cell_type": "code",
   "execution_count": 63,
   "metadata": {},
   "outputs": [],
   "source": [
    "import os\n",
    "directory = os.fsencode(sourceDirectory)\n",
    "for file in os.listdir(directory):\n",
    "    filename = os.fsdecode(file)\n",
    "    if filename.endswith(\".json\"): \n",
    "        f=open(f\"{sourceDirectory}/{filename}\",'r',encoding=\"latin-1\")\n",
    "        response = session.post(f\"{baseUrl}/patientMatchingDatasetConversion\",data=f,headers=headers)\n",
    "        # response = session.post(f\"{baseUrl}/fhir/{tenant}\",data=f,headers=headers)\n",
    "        if (response.status_code != 200):\n",
    "            problemFiles.append(filename)\n",
    "            print(f\"{filename}  {response.status_code}\")\n",
    "        f.close()"
   ]
  },
  {
   "cell_type": "code",
   "execution_count": null,
   "metadata": {},
   "outputs": [],
   "source": [
    "print(problemFiles)"
   ]
  },
  {
   "cell_type": "code",
   "execution_count": null,
   "metadata": {},
   "outputs": [],
   "source": [
    "for filename in problemFiles:\n",
    "    f=open(f\"{sourceDirectory}/{filename}\",'r',encoding=\"latin-1\")\n",
    "    response = session.post(f\"{baseUrl}/fhir/{tenant}\",data=f,headers=headers)\n",
    "    if (response.status_code != 200):\n",
    "        print(f\"{filename}  {response.status_code}\")\n",
    "    f.close"
   ]
  },
  {
   "cell_type": "code",
   "execution_count": null,
   "metadata": {},
   "outputs": [],
   "source": [
    "response = session.get(f\"{baseUrl}/fhir/{tenant}/Patient\")\n",
    "print(response.content)"
   ]
  }
 ],
 "metadata": {
  "kernelspec": {
   "display_name": "Python 3",
   "language": "python",
   "name": "python3"
  },
  "language_info": {
   "codemirror_mode": {
    "name": "ipython",
    "version": 3
   },
   "file_extension": ".py",
   "mimetype": "text/x-python",
   "name": "python",
   "nbconvert_exporter": "python",
   "pygments_lexer": "ipython3",
   "version": "3.11.4"
  }
 },
 "nbformat": 4,
 "nbformat_minor": 2
}
